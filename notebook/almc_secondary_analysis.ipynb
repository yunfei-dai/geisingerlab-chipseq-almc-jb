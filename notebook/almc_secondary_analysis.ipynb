{
 "cells": [
  {
   "cell_type": "code",
   "execution_count": 1,
   "metadata": {},
   "outputs": [
    {
     "name": "stdout",
     "output_type": "stream",
     "text": [
      "3.11.3 (main, May 15 2023, 10:43:03) [Clang 14.0.6 ]\n"
     ]
    }
   ],
   "source": [
    "import os\n",
    "import sys\n",
    "import re\n",
    "import pandas as pd\n",
    "from Bio import SeqIO\n",
    "\n",
    "print(sys.version)"
   ]
  },
  {
   "cell_type": "markdown",
   "metadata": {},
   "source": [
    "# Preprocessing of raw reads\n",
    "\n",
    "### Preprocessing steps were completed on HPC using batch scripts.\n",
    "### FASTQ reads are trimmed then mapped to reference genomes.\n",
    "### Mapped BAM files are used for peak calling using MACS2. \n",
    "### The output NarrowPeak fiels are used for downstream analyses.\n",
    "### https://github.com/yunfei-dai/geisingerlab-chipseq-almc-jb/tree/master/sbatch_scripts"
   ]
  },
  {
   "cell_type": "markdown",
   "metadata": {},
   "source": [
    "### Find intersected peaks among replicates"
   ]
  },
  {
   "cell_type": "code",
   "execution_count": 23,
   "metadata": {},
   "outputs": [],
   "source": [
    "def get_replicates(INPUT_DIR, OUTPUT_DIR, samples):\n",
    "    # recognize replicates from .narrowPeak files\n",
    "    for sample in samples:\n",
    "        replicates = []\n",
    "        for file in os.listdir(INPUT_DIR):\n",
    "            if re.match(\"^\" + str(sample) + \".+.narrowPeak$\", file):\n",
    "                replicates.append(os.path.join(INPUT_DIR, file))\n",
    "        outfile =os.path.join(OUTPUT_DIR, (str(sample) + \".intersect.bed\"))\n",
    "        cmd = ' '.join([\"bedtools multiinter -cluster -header -i \", \" \".join(replicates), \" > \", outfile]) \n",
    "        os.system(cmd)\n"
   ]
  },
  {
   "cell_type": "code",
   "execution_count": 24,
   "metadata": {},
   "outputs": [
    {
     "name": "stderr",
     "output_type": "stream",
     "text": [
      "sh: line 1: 92960 Segmentation fault: 11  bedtools multiinter -cluster -header -i /Users/yunfei/EG_lab_bioinfo_projects/2023_Sep_ALMC_Jinna_ChIPSeq_analysis_YD/MACS2_output/narrowPeak/WTcntrl_BEADS_1.ext_size200_peaks.narrowPeak /Users/yunfei/EG_lab_bioinfo_projects/2023_Sep_ALMC_Jinna_ChIPSeq_analysis_YD/MACS2_output/narrowPeak/WTcntrl_BEADS_2.ext_size200_peaks.narrowPeak /Users/yunfei/EG_lab_bioinfo_projects/2023_Sep_ALMC_Jinna_ChIPSeq_analysis_YD/MACS2_output/narrowPeak/WTcntrl_BEADS_3.ext_size200_peaks.narrowPeak > /Users/yunfei/EG_lab_bioinfo_projects/2023_Sep_ALMC_Jinna_ChIPSeq_analysis_YD/bed_multiinter/WTcntrl_BEADS.intersect.bed\n"
     ]
    }
   ],
   "source": [
    "narrowPeak = \"/Users/yunfei/EG_lab_bioinfo_projects/2023_Sep_ALMC_Jinna_ChIPSeq_analysis_YD/MACS2_output/narrowPeak\"\n",
    "bed_multiinter = \"/Users/yunfei/EG_lab_bioinfo_projects/2023_Sep_ALMC_Jinna_ChIPSeq_analysis_YD/bed_multiinter\"\n",
    "!mkdir -p $bed_multiinter\n",
    "get_replicates(narrowPeak, bed_multiinter, ['WTcntrl_BEADS', 'JBA71FLAG_BEADS'])"
   ]
  },
  {
   "cell_type": "markdown",
   "metadata": {},
   "source": [
    "An intersected bed file is generated for WT and JBA71FLAG"
   ]
  },
  {
   "cell_type": "code",
   "execution_count": 26,
   "metadata": {},
   "outputs": [
    {
     "name": "stdout",
     "output_type": "stream",
     "text": [
      "JBA71FLAG_BEADS.intersect.bed\n",
      "WTcntrl_BEADS.intersect.bed\n"
     ]
    }
   ],
   "source": [
    "!ls $bed_multiinter | cat"
   ]
  },
  {
   "cell_type": "markdown",
   "metadata": {},
   "source": [
    "### Calculate average peak position for intersected peaks"
   ]
  },
  {
   "cell_type": "code",
   "execution_count": 27,
   "metadata": {},
   "outputs": [
    {
     "name": "stdout",
     "output_type": "stream",
     "text": [
      "new output: /Users/yunfei/EG_lab_bioinfo_projects/2023_Sep_ALMC_Jinna_ChIPSeq_analysis_YD/average_peak_summit/WTcntrl_BEADS.average_summit.bed\n",
      "new output: /Users/yunfei/EG_lab_bioinfo_projects/2023_Sep_ALMC_Jinna_ChIPSeq_analysis_YD/average_peak_summit/JBA71FLAG_BEADS.average_summit.bed\n"
     ]
    }
   ],
   "source": [
    "INDIR = \"/Users/yunfei/EG_lab_bioinfo_projects/2023_Sep_ALMC_Jinna_ChIPSeq_analysis_YD/bed_multiinter\"\n",
    "OUTDIR = \"/Users/yunfei/EG_lab_bioinfo_projects/2023_Sep_ALMC_Jinna_ChIPSeq_analysis_YD/average_peak_summit\"\n",
    "SCRIPT = \"/Users/yunfei/GitProjects/geisingerlab/geisingerlab-chipseq-bfmrs/src/find_peak_summit.py\"\n",
    "!mkdir -p $OUTDIR\n",
    "\n",
    "for file in os.listdir(INDIR):\n",
    "    if re.match(\"^.+\" + \"intersect.bed$\", file):\n",
    "        infile = os.path.join(INDIR, file)\n",
    "        outfile = os.path.join(OUTDIR, (file.split('.')[0] + '.average_summit.bed'))\n",
    "        cmd = \"python \" + SCRIPT + \" \" + infile + \" \" + outfile\n",
    "        print(\"new output: \" + outfile)\n",
    "        os.system(cmd)"
   ]
  },
  {
   "cell_type": "code",
   "execution_count": 28,
   "metadata": {},
   "outputs": [
    {
     "name": "stdout",
     "output_type": "stream",
     "text": [
      "\tchrom\tstart\tend\toriginal_peak_offset\taverage_summit\toriginal_enrichment\taverage_enrichment\n",
      "0\tNZ_CP012004.1\t235728\t235928\t127;100\t235841\t1.98;2.30\t2.14\n",
      "1\tNZ_CP012004.1\t373874\t374132\t146;138\t374016\t1.54;2.40\t1.97\n",
      "2\tNZ_CP012004.1\t376473\t376887\t119;108\t376586\t2.30;2.41\t2.35\n",
      "3\tNZ_CP012004.1\t668966\t669175\t162;92\t669093\t2.60;2.20\t2.40\n",
      "4\tNZ_CP012004.1\t670100\t670372\t331;213;171\t670338\t2.27;2.77;1.61\t2.22\n",
      "5\tNZ_CP012004.1\t726295\t726511\t184;176;103\t726449\t2.56;3.00;1.90\t2.49\n",
      "6\tNZ_CP012004.1\t772526\t772737\t115;135\t772651\t1.97;2.59\t2.28\n",
      "7\tNZ_CP012004.1\t825473\t825934\t332;322\t825800\t1.67;1.81\t1.74\n",
      "8\tNZ_CP012004.1\t860833\t861149\t175;175\t861008\t2.26;3.44\t2.85\n"
     ]
    }
   ],
   "source": [
    "!head /Users/yunfei/EG_lab_bioinfo_projects/2023_Sep_ALMC_Jinna_ChIPSeq_analysis_YD/average_peak_summit/JBA71FLAG_BEADS.average_summit.bed"
   ]
  },
  {
   "cell_type": "markdown",
   "metadata": {},
   "source": [
    "### Nearest ORF identification of JBA71FLAG peaks"
   ]
  },
  {
   "cell_type": "code",
   "execution_count": 29,
   "metadata": {},
   "outputs": [],
   "source": [
    "from matplotlib import pyplot as plt\n",
    "from Bio import SeqIO\n",
    "from scipy.stats import norm\n",
    "from bisect import bisect_left"
   ]
  },
  {
   "cell_type": "code",
   "execution_count": 38,
   "metadata": {},
   "outputs": [],
   "source": [
    "def nearest_ORF(INDIR, OUTDIR, annotation, script):\n",
    "    for file in os.listdir(INDIR):\n",
    "        if re.match(\"^.+\" + \"average_summit.bed$\", file):\n",
    "            infile = os.path.join(INDIR, file)\n",
    "            outfile = os.path.join(OUTDIR, (file.split('.')[0] + '.nearest_orf.tsv'))\n",
    "            plot = os.path.join(OUTDIR, (file.split('.')[0] + '.nearest_orf.tiff'))\n",
    "            cmd = \" \".join([\"python \", script, \" \", infile, \" \", annotation, \" \", outfile, \" \", plot])\n",
    "            print(\"new output: \" + outfile)\n",
    "            os.system(cmd)"
   ]
  },
  {
   "cell_type": "code",
   "execution_count": 39,
   "metadata": {},
   "outputs": [
    {
     "name": "stdout",
     "output_type": "stream",
     "text": [
      "new output: /Users/yunfei/EG_lab_bioinfo_projects/2023_Sep_ALMC_Jinna_ChIPSeq_analysis_YD/peak_stat/WTcntrl_BEADS.nearest_orf.tsv\n"
     ]
    },
    {
     "name": "stderr",
     "output_type": "stream",
     "text": [
      "Traceback (most recent call last):\n",
      "  File \"/Users/yunfei/GitProjects/geisingerlab/geisingerlab-chipseq-bfmrs/src/distance_to_orf.py\", line 156, in <module>\n",
      "    main()\n",
      "  File \"/Users/yunfei/GitProjects/geisingerlab/geisingerlab-chipseq-bfmrs/src/distance_to_orf.py\", line 153, in main\n",
      "    make_histogram(infile, outfile, distance_plot, gene_dict, start_codon_dict)\n",
      "  File \"/Users/yunfei/GitProjects/geisingerlab/geisingerlab-chipseq-bfmrs/src/distance_to_orf.py\", line 116, in make_histogram\n",
      "    bins = np.arange(np.min(distance_list_coding), np.max(distance_list_coding), 20)\n",
      "                     ^^^^^^^^^^^^^^^^^^^^^^^^^^^^\n",
      "  File \"/Users/yunfei/opt/anaconda3/envs/ChipSeq/lib/python3.11/site-packages/numpy/core/fromnumeric.py\", line 2953, in min\n",
      "    return _wrapreduction(a, np.minimum, 'min', axis, None, out,\n",
      "           ^^^^^^^^^^^^^^^^^^^^^^^^^^^^^^^^^^^^^^^^^^^^^^^^^^^^^\n",
      "  File \"/Users/yunfei/opt/anaconda3/envs/ChipSeq/lib/python3.11/site-packages/numpy/core/fromnumeric.py\", line 88, in _wrapreduction\n",
      "    return ufunc.reduce(obj, axis, dtype, out, **passkwargs)\n",
      "           ^^^^^^^^^^^^^^^^^^^^^^^^^^^^^^^^^^^^^^^^^^^^^^^^^\n",
      "ValueError: zero-size array to reduction operation minimum which has no identity\n"
     ]
    },
    {
     "name": "stdout",
     "output_type": "stream",
     "text": [
      "new output: /Users/yunfei/EG_lab_bioinfo_projects/2023_Sep_ALMC_Jinna_ChIPSeq_analysis_YD/peak_stat/JBA71FLAG_BEADS.nearest_orf.tsv\n"
     ]
    }
   ],
   "source": [
    "average_peak = \"/Users/yunfei/EG_lab_bioinfo_projects/2023_Sep_ALMC_Jinna_ChIPSeq_analysis_YD/average_peak_summit\"\n",
    "annotation = \"/Users/yunfei/EG_lab_bioinfo_projects/2023_Sep_ALMC_Jinna_ChIPSeq_analysis_YD/annotations\"\n",
    "peak_stat = \"/Users/yunfei/EG_lab_bioinfo_projects/2023_Sep_ALMC_Jinna_ChIPSeq_analysis_YD/peak_stat\"\n",
    "script = \"/Users/yunfei/GitProjects/geisingerlab/geisingerlab-chipseq-bfmrs/src/distance_to_orf.py\"\n",
    "\n",
    "!mkdir -p $peak_stat\n",
    "nearest_ORF(average_peak, peak_stat, annotation, script)"
   ]
  },
  {
   "cell_type": "markdown",
   "metadata": {},
   "source": [
    "Note: empty values in WT caused errors in generating histogram"
   ]
  },
  {
   "cell_type": "code",
   "execution_count": 40,
   "metadata": {},
   "outputs": [
    {
     "data": {
      "image/png": "[encoded data removed]",
      "text/plain": [
       "<PIL.TiffImagePlugin.TiffImageFile image mode=RGBA size=640x480>"
      ]
     },
     "execution_count": 40,
     "metadata": {},
     "output_type": "execute_result"
    }
   ],
   "source": [
    "from PIL import Image\n",
    "Image.open(\"/Users/yunfei/EG_lab_bioinfo_projects/2023_Sep_ALMC_Jinna_ChIPSeq_analysis_YD/peak_stat/JBA71FLAG_BEADS.nearest_orf.tiff\")"
   ]
  },
  {
   "cell_type": "markdown",
   "metadata": {},
   "source": [
    "### Link peak stat with RNASeq tables"
   ]
  },
  {
   "cell_type": "code",
   "execution_count": null,
   "metadata": {},
   "outputs": [],
   "source": [
    "def read_rnaseq_table(file):\n",
    "    df = pd.read_excel(file, engine='openpyxl')\n",
    "    df = df.set_index(\"gene_id\")\n",
    "    return df\n",
    "\n",
    "rnaseq_table = {}\n",
    "rnaseq_table.update({\"BfmRS_WT\" : read_rnaseq_table(rnaseq_bfmRS)})\n",
    "rnaseq_table.update({\"BfmR_WT\" : read_rnaseq_table(rnaseq_bfmR)})\n",
    "rnaseq_table.update({\"BfmS_WT\" : read_rnaseq_table(rnaseq_bfmS)})\n",
    "\n",
    "test_table = read_rnaseq_table(rnaseq_bfmRS)\n",
    "\n",
    "df_chipseq = pd.read_csv(infile, sep='\\t', index_col=0)\n",
    "df_chipseq = df_chipseq.set_index(\"locus_tag\")\n",
    "\n",
    "col_names = [\"log2(fold_change)\", \"significant\", \"protein_id\", \"product\"]\n",
    "\n",
    "for i,j in rnaseq_table.items():\n",
    "    df_rnaseq = j\n",
    "    for row, column in df_chipseq.iterrows():\n",
    "        for k in col_names:\n",
    "            new_column_name = i + \"_\" + k\n",
    "            try:\n",
    "                df_chipseq.loc[row, new_column_name] = df_rnaseq.loc[row,k]\n",
    "            except:\n",
    "                pass\n",
    "df_chipseq.to_csv(outfile, sep='\\t')"
   ]
  }
 ],
 "metadata": {
  "kernelspec": {
   "display_name": "ChipSeq",
   "language": "python",
   "name": "python3"
  },
  "language_info": {
   "codemirror_mode": {
    "name": "ipython",
    "version": 3
   },
   "file_extension": ".py",
   "mimetype": "text/x-python",
   "name": "python",
   "nbconvert_exporter": "python",
   "pygments_lexer": "ipython3",
   "version": "3.11.3"
  },
  "orig_nbformat": 4
 },
 "nbformat": 4,
 "nbformat_minor": 2
}
